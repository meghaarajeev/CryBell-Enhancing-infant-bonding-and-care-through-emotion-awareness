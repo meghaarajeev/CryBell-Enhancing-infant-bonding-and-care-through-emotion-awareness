{
  "nbformat": 4,
  "nbformat_minor": 0,
  "metadata": {
    "colab": {
      "provenance": [],
      "include_colab_link": true
    },
    "kernelspec": {
      "name": "python3",
      "display_name": "Python 3"
    },
    "language_info": {
      "name": "python"
    }
  },
  "cells": [
    {
      "cell_type": "markdown",
      "metadata": {
        "id": "view-in-github",
        "colab_type": "text"
      },
      "source": [
        "<a href=\"https://colab.research.google.com/github/Jobphilipgeorge/CryBell-Enhancing-infant-bonding-and-care-through-emotion-awareness/blob/main/CryBell.ipynb\" target=\"_parent\"><img src=\"https://colab.research.google.com/assets/colab-badge.svg\" alt=\"Open In Colab\"/></a>"
      ]
    },
    {
      "cell_type": "code",
      "execution_count": null,
      "metadata": {
        "id": "NiFLAhJ7JuNH",
        "colab": {
          "base_uri": "https://localhost:8080/"
        },
        "outputId": "7e5b63d7-1977-4bdd-b925-03071d8740df"
      },
      "outputs": [
        {
          "output_type": "stream",
          "name": "stdout",
          "text": [
            "Collecting librosa==0.9.2\n",
            "  Downloading librosa-0.9.2-py3-none-any.whl (214 kB)\n",
            "\u001b[?25l     \u001b[90m━━━━━━━━━━━━━━━━━━━━━━━━━━━━━━━━━━━━━━━━\u001b[0m \u001b[32m0.0/214.3 kB\u001b[0m \u001b[31m?\u001b[0m eta \u001b[36m-:--:--\u001b[0m\r\u001b[2K     \u001b[91m━━━━━━━━━━━\u001b[0m\u001b[90m╺\u001b[0m\u001b[90m━━━━━━━━━━━━━━━━━━━━━━━━━━━━\u001b[0m \u001b[32m61.4/214.3 kB\u001b[0m \u001b[31m1.9 MB/s\u001b[0m eta \u001b[36m0:00:01\u001b[0m\r\u001b[2K     \u001b[90m━━━━━━━━━━━━━━━━━━━━━━━━━━━━━━━━━━━━━━━━\u001b[0m \u001b[32m214.3/214.3 kB\u001b[0m \u001b[31m3.1 MB/s\u001b[0m eta \u001b[36m0:00:00\u001b[0m\n",
            "\u001b[?25hRequirement already satisfied: audioread>=2.1.9 in /usr/local/lib/python3.10/dist-packages (from librosa==0.9.2) (3.0.1)\n",
            "Requirement already satisfied: numpy>=1.17.0 in /usr/local/lib/python3.10/dist-packages (from librosa==0.9.2) (1.25.2)\n",
            "Requirement already satisfied: scipy>=1.2.0 in /usr/local/lib/python3.10/dist-packages (from librosa==0.9.2) (1.11.4)\n",
            "Requirement already satisfied: scikit-learn>=0.19.1 in /usr/local/lib/python3.10/dist-packages (from librosa==0.9.2) (1.2.2)\n",
            "Requirement already satisfied: joblib>=0.14 in /usr/local/lib/python3.10/dist-packages (from librosa==0.9.2) (1.3.2)\n",
            "Requirement already satisfied: decorator>=4.0.10 in /usr/local/lib/python3.10/dist-packages (from librosa==0.9.2) (4.4.2)\n",
            "Collecting resampy>=0.2.2 (from librosa==0.9.2)\n",
            "  Downloading resampy-0.4.3-py3-none-any.whl (3.1 MB)\n",
            "\u001b[2K     \u001b[90m━━━━━━━━━━━━━━━━━━━━━━━━━━━━━━━━━━━━━━━━\u001b[0m \u001b[32m3.1/3.1 MB\u001b[0m \u001b[31m11.2 MB/s\u001b[0m eta \u001b[36m0:00:00\u001b[0m\n",
            "\u001b[?25hRequirement already satisfied: numba>=0.45.1 in /usr/local/lib/python3.10/dist-packages (from librosa==0.9.2) (0.58.1)\n",
            "Requirement already satisfied: soundfile>=0.10.2 in /usr/local/lib/python3.10/dist-packages (from librosa==0.9.2) (0.12.1)\n",
            "Requirement already satisfied: pooch>=1.0 in /usr/local/lib/python3.10/dist-packages (from librosa==0.9.2) (1.8.1)\n",
            "Requirement already satisfied: packaging>=20.0 in /usr/local/lib/python3.10/dist-packages (from librosa==0.9.2) (24.0)\n",
            "Requirement already satisfied: llvmlite<0.42,>=0.41.0dev0 in /usr/local/lib/python3.10/dist-packages (from numba>=0.45.1->librosa==0.9.2) (0.41.1)\n",
            "Requirement already satisfied: platformdirs>=2.5.0 in /usr/local/lib/python3.10/dist-packages (from pooch>=1.0->librosa==0.9.2) (4.2.0)\n",
            "Requirement already satisfied: requests>=2.19.0 in /usr/local/lib/python3.10/dist-packages (from pooch>=1.0->librosa==0.9.2) (2.31.0)\n",
            "Requirement already satisfied: threadpoolctl>=2.0.0 in /usr/local/lib/python3.10/dist-packages (from scikit-learn>=0.19.1->librosa==0.9.2) (3.4.0)\n",
            "Requirement already satisfied: cffi>=1.0 in /usr/local/lib/python3.10/dist-packages (from soundfile>=0.10.2->librosa==0.9.2) (1.16.0)\n",
            "Requirement already satisfied: pycparser in /usr/local/lib/python3.10/dist-packages (from cffi>=1.0->soundfile>=0.10.2->librosa==0.9.2) (2.22)\n",
            "Requirement already satisfied: charset-normalizer<4,>=2 in /usr/local/lib/python3.10/dist-packages (from requests>=2.19.0->pooch>=1.0->librosa==0.9.2) (3.3.2)\n",
            "Requirement already satisfied: idna<4,>=2.5 in /usr/local/lib/python3.10/dist-packages (from requests>=2.19.0->pooch>=1.0->librosa==0.9.2) (3.6)\n",
            "Requirement already satisfied: urllib3<3,>=1.21.1 in /usr/local/lib/python3.10/dist-packages (from requests>=2.19.0->pooch>=1.0->librosa==0.9.2) (2.0.7)\n",
            "Requirement already satisfied: certifi>=2017.4.17 in /usr/local/lib/python3.10/dist-packages (from requests>=2.19.0->pooch>=1.0->librosa==0.9.2) (2024.2.2)\n",
            "Installing collected packages: resampy, librosa\n",
            "  Attempting uninstall: librosa\n",
            "    Found existing installation: librosa 0.10.1\n",
            "    Uninstalling librosa-0.10.1:\n",
            "      Successfully uninstalled librosa-0.10.1\n",
            "Successfully installed librosa-0.9.2 resampy-0.4.3\n"
          ]
        }
      ],
      "source": [
        "!pip install librosa==0.9.2"
      ]
    },
    {
      "cell_type": "code",
      "source": [
        "!git clone https://github.com/gveres/donateacry-corpus.git"
      ],
      "metadata": {
        "id": "oSAIdOddM465",
        "colab": {
          "base_uri": "https://localhost:8080/"
        },
        "outputId": "c0f2fc45-a49c-4ca2-b728-273ad2e31822"
      },
      "execution_count": 1,
      "outputs": [
        {
          "output_type": "stream",
          "name": "stdout",
          "text": [
            "Cloning into 'donateacry-corpus'...\n",
            "remote: Enumerating objects: 1616, done.\u001b[K\n",
            "remote: Total 1616 (delta 0), reused 0 (delta 0), pack-reused 1616\u001b[K\n",
            "Receiving objects: 100% (1616/1616), 67.06 MiB | 26.34 MiB/s, done.\n",
            "Resolving deltas: 100% (43/43), done.\n"
          ]
        }
      ]
    },
    {
      "cell_type": "code",
      "source": [
        "import numpy as np\n",
        "import pandas as pd\n",
        "import os\n",
        "import librosa\n",
        "import librosa.display\n",
        "import matplotlib.pyplot as plt\n",
        "from sklearn.model_selection import train_test_split\n",
        "from sklearn.preprocessing import normalize\n",
        "import warnings\n",
        "warnings.filterwarnings('ignore')\n",
        "from sklearn.model_selection import train_test_split\n",
        "import tensorflow\n",
        "from tensorflow.keras.layers import LSTM, Dense"
      ],
      "metadata": {
        "id": "F01F1u7WNpzU"
      },
      "execution_count": null,
      "outputs": []
    },
    {
      "cell_type": "code",
      "source": [
        "def create_spectrogram(audio_file, image_file):\n",
        "    fig = plt.figure()\n",
        "    ax = fig.add_subplot(1, 1, 1)\n",
        "    fig.subplots_adjust(left=0, right=1, bottom=0, top=1)\n",
        "\n",
        "    y, sr = librosa.load(audio_file)\n",
        "    ms = librosa.feature.melspectrogram(y, sr=sr)\n",
        "    log_ms = librosa.power_to_db(ms, ref=np.max)\n",
        "    librosa.display.specshow(log_ms, sr=sr)\n",
        "\n",
        "    fig.savefig(image_file)\n",
        "    plt.close(fig)\n",
        "\n",
        "def create_pngs_from_wavs(input_path, output_path):\n",
        "    if not os.path.exists(output_path):\n",
        "        os.makedirs(output_path)\n",
        "\n",
        "    dir = os.listdir(input_path)\n",
        "\n",
        "    for i, file in enumerate(dir):\n",
        "        input_file = os.path.join(input_path, file)\n",
        "        output_file = os.path.join(output_path, file.replace('.wav', '.png'))\n",
        "        create_spectrogram(input_file, output_file)"
      ],
      "metadata": {
        "id": "o86g_00HNveB"
      },
      "execution_count": null,
      "outputs": []
    },
    {
      "cell_type": "code",
      "source": [
        "create_pngs_from_wavs('/content/donateacry-corpus/donateacry_corpus_cleaned_and_updated_data/belly_pain','/content/Output/belly_pain')\n",
        "create_pngs_from_wavs('/content/donateacry-corpus/donateacry_corpus_cleaned_and_updated_data/burping', '/content/Output/burping')\n",
        "create_pngs_from_wavs('/content/donateacry-corpus/donateacry_corpus_cleaned_and_updated_data/discomfort', '/content/Output/discomfort')\n",
        "create_pngs_from_wavs('/content/donateacry-corpus/donateacry_corpus_cleaned_and_updated_data/hungry', '/content/Output/hungry')\n",
        "create_pngs_from_wavs('/content/donateacry-corpus/donateacry_corpus_cleaned_and_updated_data/tired', '/content/Output/tired')"
      ],
      "metadata": {
        "id": "4T3EzufoN0B7"
      },
      "execution_count": null,
      "outputs": []
    },
    {
      "cell_type": "code",
      "source": [
        "x = []\n",
        "y = []\n",
        "\n",
        "from keras.preprocessing import image\n",
        "\n",
        "def load_images_from_path(path, label):\n",
        "    images = []\n",
        "    labels = []\n",
        "\n",
        "    for file in os.listdir(path):\n",
        "        images.append(image.img_to_array(image.load_img(os.path.join(path, file), target_size=(224, 224, 3))))\n",
        "        labels.append((label))\n",
        "\n",
        "    return images, labels"
      ],
      "metadata": {
        "id": "SA5xb7ItQ1uT"
      },
      "execution_count": null,
      "outputs": []
    },
    {
      "cell_type": "code",
      "source": [
        "import glob\n",
        "import shutil\n",
        "\n",
        "def move_files(source_pattern, destination_path):\n",
        "    if not os.path.exists(destination_path):\n",
        "        os.makedirs(destination_path)\n",
        "        print(f\"Directory '{destination_path}' created successfully.\")\n",
        "    else:\n",
        "        print(f\"Directory '{destination_path}' already exists.\")\n",
        "\n",
        "    files_to_move = glob.glob(source_pattern)\n",
        "    for file_path in files_to_move[:-1]:\n",
        "        shutil.move(file_path, destination_path)"
      ],
      "metadata": {
        "id": "OJNJbWHAREyw"
      },
      "execution_count": null,
      "outputs": []
    },
    {
      "cell_type": "code",
      "source": [
        "# Define your directories and source patterns\n",
        "directories = {\n",
        "    '/content/Output/belly_pain_train': '/content/Output/belly_pain/*.png',\n",
        "    '/content/Output/burping_train': '/content/Output/burping/*.png',\n",
        "    '/content/Output/discomfort_train': '/content/Output/discomfort/*.png',\n",
        "    '/content/Output/hungry_train': '/content/Output/hungry/*.png',\n",
        "    '/content/Output/tired_train': '/content/Output/tired/*.png'\n",
        "}\n",
        "\n",
        "for directory, source_pattern in directories.items():\n",
        "    move_files(source_pattern, directory)\n"
      ],
      "metadata": {
        "colab": {
          "base_uri": "https://localhost:8080/"
        },
        "id": "2XVJAksMRHBB",
        "outputId": "06d9ed2c-c83a-457b-fb3b-3e0e36b6c118"
      },
      "execution_count": null,
      "outputs": [
        {
          "output_type": "stream",
          "name": "stdout",
          "text": [
            "Directory '/content/Output/belly_pain_train' created successfully.\n",
            "Directory '/content/Output/burping_train' created successfully.\n",
            "Directory '/content/Output/discomfort_train' created successfully.\n",
            "Directory '/content/Output/hungry_train' created successfully.\n",
            "Directory '/content/Output/tired_train' created successfully.\n"
          ]
        }
      ]
    },
    {
      "cell_type": "code",
      "source": [
        "images, labels = load_images_from_path('/content/Output/belly_pain_train', 0)\n",
        "\n",
        "x += images\n",
        "y += labels\n",
        "\n",
        "images, labels = load_images_from_path('/content/Output/burping_train', 1)\n",
        "\n",
        "x += images\n",
        "y += labels\n",
        "\n",
        "images, labels = load_images_from_path('/content/Output/discomfort_train', 2)\n",
        "\n",
        "x += images\n",
        "y += labels\n",
        "\n",
        "images, labels = load_images_from_path('/content/Output/hungry_train', 3)\n",
        "\n",
        "x += images\n",
        "y += labels\n",
        "\n",
        "images, labels = load_images_from_path('/content/Output/tired_train', 4)\n",
        "\n",
        "x += images\n",
        "y += labels"
      ],
      "metadata": {
        "id": "wkupa_S7TIAI"
      },
      "execution_count": null,
      "outputs": []
    },
    {
      "cell_type": "code",
      "source": [
        "from tensorflow.keras.utils import to_categorical\n",
        "from sklearn.model_selection import train_test_split\n",
        "\n",
        "x_train, x_test, y_train, y_test = train_test_split(x, y, test_size=0.2, random_state=0)\n",
        "\n",
        "x_train_norm = np.array(x_train) / 255\n",
        "x_test_norm = np.array(x_test) / 255\n",
        "\n",
        "y_train_encoded = to_categorical(y_train)\n",
        "y_test_encoded = to_categorical(y_test)"
      ],
      "metadata": {
        "id": "_sblWI7rTdkj"
      },
      "execution_count": null,
      "outputs": []
    },
    {
      "cell_type": "code",
      "source": [
        "from tensorflow.keras.models import Sequential\n",
        "from tensorflow.keras.layers import Conv2D, MaxPooling2D,Flatten, Dense, Dropout,Normalization,Resizing,InputLayer\n",
        "from tensorflow.keras.layers.experimental import RandomFourierFeatures\n",
        "from tensorflow.keras.optimizers import Adam,Adafactor,AdamW,Lion\n",
        "from tensorflow.keras.optimizers.experimental import Adadelta,Adagrad,Adamax,RMSprop,SGD,Nadam,Ftrl\n",
        "\n",
        "model = Sequential()\n",
        "model.add(InputLayer(input_shape=(224, 224, 3)))\n",
        "model.add(Resizing(64,64))\n",
        "model.add(Normalization())\n",
        "model.add(Conv2D(64, 3, strides=1, activation='relu'))\n",
        "model.add(Conv2D(128, 3, strides=1, activation='relu'))\n",
        "model.add(MaxPooling2D(2, 2))\n",
        "model.add(Dropout(0.2))\n",
        "model.add(Flatten())\n",
        "model.add(RandomFourierFeatures(5))\n",
        "model.compile(optimizer=AdamW(lr=0.01), loss='categorical_crossentropy', metrics=['accuracy'])\n",
        "model.summary()"
      ],
      "metadata": {
        "colab": {
          "base_uri": "https://localhost:8080/"
        },
        "id": "Q0wvW5F1TgHz",
        "outputId": "bddc3937-521c-4b80-dbf0-1f7f45d644bd"
      },
      "execution_count": null,
      "outputs": [
        {
          "output_type": "stream",
          "name": "stderr",
          "text": [
            "WARNING:absl:`lr` is deprecated in Keras optimizer, please use `learning_rate` or use the legacy optimizer, e.g.,tf.keras.optimizers.legacy.AdamW.\n"
          ]
        },
        {
          "output_type": "stream",
          "name": "stdout",
          "text": [
            "Model: \"sequential\"\n",
            "_________________________________________________________________\n",
            " Layer (type)                Output Shape              Param #   \n",
            "=================================================================\n",
            " resizing (Resizing)         (None, 64, 64, 3)         0         \n",
            "                                                                 \n",
            " normalization (Normalizati  (None, 64, 64, 3)         7         \n",
            " on)                                                             \n",
            "                                                                 \n",
            " conv2d (Conv2D)             (None, 62, 62, 64)        1792      \n",
            "                                                                 \n",
            " conv2d_1 (Conv2D)           (None, 60, 60, 128)       73856     \n",
            "                                                                 \n",
            " max_pooling2d (MaxPooling2  (None, 30, 30, 128)       0         \n",
            " D)                                                              \n",
            "                                                                 \n",
            " dropout (Dropout)           (None, 30, 30, 128)       0         \n",
            "                                                                 \n",
            " flatten (Flatten)           (None, 115200)            0         \n",
            "                                                                 \n",
            " random_fourier_features (R  (None, 5)                 576006    \n",
            " andomFourierFeatures)                                           \n",
            "                                                                 \n",
            "=================================================================\n",
            "Total params: 651661 (2.49 MB)\n",
            "Trainable params: 75648 (295.50 KB)\n",
            "Non-trainable params: 576013 (2.20 MB)\n",
            "_________________________________________________________________\n"
          ]
        }
      ]
    },
    {
      "cell_type": "code",
      "source": [
        "from tensorflow.keras.callbacks import ReduceLROnPlateau\n",
        "reduce_lr = ReduceLROnPlateau(monitor='val_accuracy',\n",
        "                              factor=0.5,\n",
        "                              patience=2,\n",
        "                              min_lr=0.006,\n",
        "                              verbose=1)\n",
        "\n",
        "hist = model.fit(x_train_norm, y_train_encoded, validation_data=(x_test_norm, y_test_encoded), epochs=50,callbacks=[reduce_lr])"
      ],
      "metadata": {
        "colab": {
          "base_uri": "https://localhost:8080/"
        },
        "id": "maG657moTlG6",
        "outputId": "3fb1d128-ed93-405c-aea7-938a84340da1"
      },
      "execution_count": null,
      "outputs": [
        {
          "output_type": "stream",
          "name": "stdout",
          "text": [
            "Epoch 1/50\n",
            "12/12 [==============================] - 18s 1s/step - loss: 11.2635 - accuracy: 0.0305 - val_loss: 1.0402 - val_accuracy: 0.0330 - lr: 0.0010\n",
            "Epoch 2/50\n",
            "12/12 [==============================] - 15s 1s/step - loss: 1.7075 - accuracy: 0.5291 - val_loss: 3.7250 - val_accuracy: 0.8132 - lr: 0.0010\n",
            "Epoch 3/50\n",
            "12/12 [==============================] - 14s 1s/step - loss: 8.7302 - accuracy: 0.8033 - val_loss: 12.4417 - val_accuracy: 0.8242 - lr: 0.0010\n",
            "Epoch 4/50\n",
            "12/12 [==============================] - 14s 1s/step - loss: 12.7303 - accuracy: 0.7036 - val_loss: 14.1999 - val_accuracy: 0.6593 - lr: 0.0010\n",
            "Epoch 5/50\n",
            "12/12 [==============================] - 14s 1s/step - loss: 11.8662 - accuracy: 0.4238 - val_loss: 4.8486 - val_accuracy: 0.0989 - lr: 0.0010\n",
            "Epoch 6/50\n",
            "12/12 [==============================] - 14s 1s/step - loss: 4.4211 - accuracy: 0.1163 - val_loss: 6.6010 - val_accuracy: 0.1209 - lr: 0.0010\n",
            "Epoch 7/50\n",
            "12/12 [==============================] - 14s 1s/step - loss: 5.5249 - accuracy: 0.1884 - val_loss: 5.2988 - val_accuracy: 0.2088 - lr: 0.0010\n",
            "Epoch 8/50\n",
            "12/12 [==============================] - 14s 1s/step - loss: 5.3735 - accuracy: 0.1911 - val_loss: 5.4614 - val_accuracy: 0.0769 - lr: 0.0010\n",
            "Epoch 9/50\n",
            "12/12 [==============================] - 16s 1s/step - loss: 3.8285 - accuracy: 0.1025 - val_loss: 4.2006 - val_accuracy: 0.0879 - lr: 0.0010\n",
            "Epoch 10/50\n",
            "12/12 [==============================] - 14s 1s/step - loss: 3.8514 - accuracy: 0.1247 - val_loss: 3.2396 - val_accuracy: 0.1319 - lr: 0.0010\n",
            "Epoch 11/50\n",
            "12/12 [==============================] - 14s 1s/step - loss: 3.4777 - accuracy: 0.0637 - val_loss: 2.6430 - val_accuracy: 0.0769 - lr: 0.0010\n",
            "Epoch 12/50\n",
            "12/12 [==============================] - 14s 1s/step - loss: 3.7541 - accuracy: 0.0582 - val_loss: 3.1594 - val_accuracy: 0.0659 - lr: 0.0010\n",
            "Epoch 13/50\n",
            "12/12 [==============================] - 14s 1s/step - loss: 4.7934 - accuracy: 0.0914 - val_loss: 5.1708 - val_accuracy: 0.0769 - lr: 0.0010\n",
            "Epoch 14/50\n",
            "12/12 [==============================] - 14s 1s/step - loss: 5.8052 - accuracy: 0.1053 - val_loss: 3.3479 - val_accuracy: 0.0769 - lr: 0.0010\n",
            "Epoch 15/50\n",
            "12/12 [==============================] - 14s 1s/step - loss: 4.9821 - accuracy: 0.1496 - val_loss: 2.8784 - val_accuracy: 0.1758 - lr: 0.0010\n",
            "Epoch 16/50\n",
            "12/12 [==============================] - 14s 1s/step - loss: 5.3013 - accuracy: 0.1690 - val_loss: 2.8772 - val_accuracy: 0.0879 - lr: 0.0010\n",
            "Epoch 17/50\n",
            "12/12 [==============================] - 16s 1s/step - loss: 5.2204 - accuracy: 0.2244 - val_loss: 2.2690 - val_accuracy: 0.0879 - lr: 0.0010\n",
            "Epoch 18/50\n",
            "12/12 [==============================] - 14s 1s/step - loss: 5.4935 - accuracy: 0.1385 - val_loss: 3.2860 - val_accuracy: 0.1319 - lr: 0.0010\n",
            "Epoch 19/50\n",
            "12/12 [==============================] - 14s 1s/step - loss: 5.1274 - accuracy: 0.1801 - val_loss: 6.3978 - val_accuracy: 0.1429 - lr: 0.0010\n",
            "Epoch 20/50\n",
            "12/12 [==============================] - 14s 1s/step - loss: 5.4252 - accuracy: 0.1939 - val_loss: 5.0353 - val_accuracy: 0.2527 - lr: 0.0010\n",
            "Epoch 21/50\n",
            "12/12 [==============================] - 14s 1s/step - loss: 4.8747 - accuracy: 0.1939 - val_loss: 4.1453 - val_accuracy: 0.1868 - lr: 0.0010\n",
            "Epoch 22/50\n",
            "12/12 [==============================] - 14s 1s/step - loss: 5.0084 - accuracy: 0.1690 - val_loss: 3.4119 - val_accuracy: 0.1319 - lr: 0.0010\n",
            "Epoch 23/50\n",
            "12/12 [==============================] - 14s 1s/step - loss: 5.1978 - accuracy: 0.1745 - val_loss: 7.3188 - val_accuracy: 0.1648 - lr: 0.0010\n",
            "Epoch 24/50\n",
            "12/12 [==============================] - 14s 1s/step - loss: 5.3070 - accuracy: 0.1911 - val_loss: 7.2269 - val_accuracy: 0.1538 - lr: 0.0010\n",
            "Epoch 25/50\n",
            "12/12 [==============================] - 16s 1s/step - loss: 5.7622 - accuracy: 0.1939 - val_loss: 6.4220 - val_accuracy: 0.1978 - lr: 0.0010\n",
            "Epoch 26/50\n",
            "12/12 [==============================] - 14s 1s/step - loss: 5.6827 - accuracy: 0.2410 - val_loss: 4.8729 - val_accuracy: 0.2308 - lr: 0.0010\n",
            "Epoch 27/50\n",
            "12/12 [==============================] - 14s 1s/step - loss: 5.8850 - accuracy: 0.1468 - val_loss: 5.6290 - val_accuracy: 0.1868 - lr: 0.0010\n",
            "Epoch 28/50\n",
            "12/12 [==============================] - 14s 1s/step - loss: 5.6716 - accuracy: 0.1884 - val_loss: 5.2198 - val_accuracy: 0.1868 - lr: 0.0010\n",
            "Epoch 29/50\n",
            "12/12 [==============================] - 14s 1s/step - loss: 5.7685 - accuracy: 0.1884 - val_loss: 5.0206 - val_accuracy: 0.1868 - lr: 0.0010\n",
            "Epoch 30/50\n",
            "12/12 [==============================] - 14s 1s/step - loss: 5.8083 - accuracy: 0.2133 - val_loss: 5.3316 - val_accuracy: 0.1429 - lr: 0.0010\n",
            "Epoch 31/50\n",
            "12/12 [==============================] - 19s 2s/step - loss: 5.5459 - accuracy: 0.2105 - val_loss: 4.5001 - val_accuracy: 0.1538 - lr: 0.0010\n",
            "Epoch 32/50\n",
            "12/12 [==============================] - 15s 1s/step - loss: 6.7208 - accuracy: 0.2133 - val_loss: 4.4394 - val_accuracy: 0.1429 - lr: 0.0010\n",
            "Epoch 33/50\n",
            "12/12 [==============================] - 15s 1s/step - loss: 6.7873 - accuracy: 0.1884 - val_loss: 6.8975 - val_accuracy: 0.2308 - lr: 0.0010\n",
            "Epoch 34/50\n",
            "12/12 [==============================] - 14s 1s/step - loss: 5.8532 - accuracy: 0.1939 - val_loss: 6.1920 - val_accuracy: 0.2198 - lr: 0.0010\n",
            "Epoch 35/50\n",
            "12/12 [==============================] - 14s 1s/step - loss: 6.6798 - accuracy: 0.1607 - val_loss: 5.7480 - val_accuracy: 0.1978 - lr: 0.0010\n",
            "Epoch 36/50\n",
            "12/12 [==============================] - 14s 1s/step - loss: 5.5768 - accuracy: 0.2493 - val_loss: 5.7550 - val_accuracy: 0.2857 - lr: 0.0010\n",
            "Epoch 37/50\n",
            "12/12 [==============================] - 14s 1s/step - loss: 6.1918 - accuracy: 0.2078 - val_loss: 6.5265 - val_accuracy: 0.1868 - lr: 0.0010\n",
            "Epoch 38/50\n",
            "12/12 [==============================] - 14s 1s/step - loss: 6.4193 - accuracy: 0.1939 - val_loss: 6.3311 - val_accuracy: 0.2418 - lr: 0.0010\n",
            "Epoch 39/50\n",
            "12/12 [==============================] - 16s 1s/step - loss: 5.4016 - accuracy: 0.2244 - val_loss: 6.5577 - val_accuracy: 0.1978 - lr: 0.0010\n",
            "Epoch 40/50\n",
            "12/12 [==============================] - 14s 1s/step - loss: 6.2424 - accuracy: 0.1634 - val_loss: 6.4907 - val_accuracy: 0.2088 - lr: 0.0010\n",
            "Epoch 41/50\n",
            "12/12 [==============================] - 14s 1s/step - loss: 5.4668 - accuracy: 0.1828 - val_loss: 5.9638 - val_accuracy: 0.2308 - lr: 0.0010\n",
            "Epoch 42/50\n",
            "12/12 [==============================] - 14s 1s/step - loss: 6.1634 - accuracy: 0.2161 - val_loss: 6.6404 - val_accuracy: 0.2198 - lr: 0.0010\n",
            "Epoch 43/50\n",
            "12/12 [==============================] - 14s 1s/step - loss: 5.4347 - accuracy: 0.1856 - val_loss: 6.8703 - val_accuracy: 0.2198 - lr: 0.0010\n",
            "Epoch 44/50\n",
            "12/12 [==============================] - 14s 1s/step - loss: 6.0689 - accuracy: 0.2022 - val_loss: 5.2404 - val_accuracy: 0.1648 - lr: 0.0010\n",
            "Epoch 45/50\n",
            "12/12 [==============================] - 14s 1s/step - loss: 6.0867 - accuracy: 0.1967 - val_loss: 7.0772 - val_accuracy: 0.1978 - lr: 0.0010\n",
            "Epoch 46/50\n",
            "12/12 [==============================] - 14s 1s/step - loss: 6.0196 - accuracy: 0.1994 - val_loss: 6.2684 - val_accuracy: 0.1978 - lr: 0.0010\n",
            "Epoch 47/50\n",
            "12/12 [==============================] - 16s 1s/step - loss: 6.2426 - accuracy: 0.1967 - val_loss: 4.8541 - val_accuracy: 0.1978 - lr: 0.0010\n",
            "Epoch 48/50\n",
            "12/12 [==============================] - 14s 1s/step - loss: 6.3107 - accuracy: 0.1856 - val_loss: 6.5621 - val_accuracy: 0.1868 - lr: 0.0010\n",
            "Epoch 49/50\n",
            "12/12 [==============================] - 14s 1s/step - loss: 5.4403 - accuracy: 0.2022 - val_loss: 5.8508 - val_accuracy: 0.2418 - lr: 0.0010\n",
            "Epoch 50/50\n",
            "12/12 [==============================] - 14s 1s/step - loss: 5.9716 - accuracy: 0.2133 - val_loss: 6.9805 - val_accuracy: 0.2198 - lr: 0.0010\n"
          ]
        }
      ]
    },
    {
      "cell_type": "code",
      "source": [
        "acc = hist.history['accuracy']\n",
        "val_acc = hist.history['val_accuracy']\n",
        "epochs = range(1, len(acc) + 1)\n",
        "\n",
        "plt.plot(epochs, acc, '-', label='Training Accuracy')\n",
        "plt.plot(epochs, val_acc, ':', label='Validation Accuracy')\n",
        "plt.title('Training and Validation Accuracy')\n",
        "plt.xlabel('Epoch')\n",
        "plt.ylabel('Accuracy')\n",
        "plt.legend(loc='lower right')\n",
        "plt.plot()\n",
        "plt.show()"
      ],
      "metadata": {
        "colab": {
          "base_uri": "https://localhost:8080/",
          "height": 472
        },
        "id": "histBvuETo5-",
        "outputId": "c55af93d-a590-4e75-c608-e232c59e0588"
      },
      "execution_count": null,
      "outputs": [
        {
          "output_type": "display_data",
          "data": {
            "text/plain": [
              "<Figure size 640x480 with 1 Axes>"
            ],
            "image/png": "[encoded data removed]"
          },
          "metadata": {}
        }
      ]
    },
    {
      "cell_type": "code",
      "source": [
        "import glob\n",
        "import os\n",
        "\n",
        "def get_png_files(directory):\n",
        "    folders = ['belly_pain', 'burping', 'discomfort', 'hungry', 'tired']\n",
        "    png_files = []\n",
        "\n",
        "    for folder_name in folders:\n",
        "        folder_path = os.path.join(directory, folder_name)\n",
        "        if os.path.exists(folder_path):\n",
        "            png_files.extend(glob.glob(os.path.join(folder_path, '*.png')))\n",
        "        else:\n",
        "            print(f\"Folder '{folder_name}' does not exist in '{directory}'.\")\n",
        "\n",
        "    return png_files\n",
        "\n",
        "directory_path = '/content/Output'\n",
        "png_files_list = get_png_files(directory_path)\n",
        "\n",
        "results = []\n",
        "for file_path in png_files_list:\n",
        "    x = image.load_img(file_path, target_size=(224, 224))\n",
        "\n",
        "    x = image.img_to_array(x)\n",
        "    x = np.expand_dims(x, axis=0)\n",
        "\n",
        "    y = model.predict(x)\n",
        "\n",
        "    class_labels = ['belly pain','burping','discomfort','hungry','tired']\n",
        "\n",
        "    # for i, label in enumerate(class_labels):\n",
        "    #     print(f'{label}: {y[0][i]}')\n",
        "\n",
        "    results.append(f\"Original:{file_path.split('/')[3]} Predicted: {class_labels[np.argmax(y)]}\")\n",
        "\n",
        "print('\\n')\n",
        "\n",
        "for i in results:\n",
        "    print(i)\n",
        "    print('\\n')"
      ],
      "metadata": {
        "colab": {
          "base_uri": "https://localhost:8080/"
        },
        "id": "rWeptsENWy3N",
        "outputId": "43058c33-18ff-44fe-d81b-0a7ee829f29b"
      },
      "execution_count": null,
      "outputs": [
        {
          "output_type": "stream",
          "name": "stdout",
          "text": [
            "1/1 [==============================] - 0s 182ms/step\n",
            "1/1 [==============================] - 0s 46ms/step\n",
            "1/1 [==============================] - 0s 46ms/step\n",
            "1/1 [==============================] - 0s 47ms/step\n",
            "1/1 [==============================] - 0s 59ms/step\n",
            "\n",
            "\n",
            "Original:belly_pain Predicted: hungry\n",
            "\n",
            "\n",
            "Original:burping Predicted: burping\n",
            "\n",
            "\n",
            "Original:discomfort Predicted: discomfort\n",
            "\n",
            "\n",
            "Original:hungry Predicted: belly pain\n",
            "\n",
            "\n",
            "Original:tired Predicted: tired\n",
            "\n",
            "\n"
          ]
        }
      ]
    }
  ]
}